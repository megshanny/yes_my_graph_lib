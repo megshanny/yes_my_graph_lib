{
 "cells": [
  {
   "cell_type": "code",
   "execution_count": 1,
   "metadata": {},
   "outputs": [
    {
     "name": "stdout",
     "output_type": "stream",
     "text": [
      "Collecting pyvis\n",
      "  Downloading pyvis-0.3.2-py3-none-any.whl.metadata (1.7 kB)\n",
      "Requirement already satisfied: ipython>=5.3.0 in c:\\users\\86130\\appdata\\roaming\\python\\python39\\site-packages (from pyvis) (8.17.0)\n",
      "Requirement already satisfied: jinja2>=2.9.6 in c:\\users\\86130\\appdata\\local\\programs\\python\\python39\\lib\\site-packages (from pyvis) (3.1.2)\n",
      "Collecting jsonpickle>=1.4.1 (from pyvis)\n",
      "  Downloading jsonpickle-3.2.2-py3-none-any.whl.metadata (7.2 kB)\n",
      "Requirement already satisfied: networkx>=1.11 in c:\\users\\86130\\appdata\\local\\programs\\python\\python39\\lib\\site-packages (from pyvis) (2.8.8)\n",
      "Requirement already satisfied: decorator in c:\\users\\86130\\appdata\\roaming\\python\\python39\\site-packages (from ipython>=5.3.0->pyvis) (5.1.1)\n",
      "Requirement already satisfied: jedi>=0.16 in c:\\users\\86130\\appdata\\roaming\\python\\python39\\site-packages (from ipython>=5.3.0->pyvis) (0.19.1)\n",
      "Requirement already satisfied: matplotlib-inline in c:\\users\\86130\\appdata\\roaming\\python\\python39\\site-packages (from ipython>=5.3.0->pyvis) (0.1.6)\n",
      "Requirement already satisfied: prompt-toolkit!=3.0.37,<3.1.0,>=3.0.30 in c:\\users\\86130\\appdata\\roaming\\python\\python39\\site-packages (from ipython>=5.3.0->pyvis) (3.0.39)\n",
      "Requirement already satisfied: pygments>=2.4.0 in c:\\users\\86130\\appdata\\roaming\\python\\python39\\site-packages (from ipython>=5.3.0->pyvis) (2.16.1)\n",
      "Requirement already satisfied: stack-data in c:\\users\\86130\\appdata\\roaming\\python\\python39\\site-packages (from ipython>=5.3.0->pyvis) (0.6.3)\n",
      "Requirement already satisfied: traitlets>=5 in c:\\users\\86130\\appdata\\roaming\\python\\python39\\site-packages (from ipython>=5.3.0->pyvis) (5.13.0)\n",
      "Requirement already satisfied: typing-extensions in c:\\users\\86130\\appdata\\roaming\\python\\python39\\site-packages (from ipython>=5.3.0->pyvis) (4.8.0)\n",
      "Requirement already satisfied: exceptiongroup in c:\\users\\86130\\appdata\\roaming\\python\\python39\\site-packages (from ipython>=5.3.0->pyvis) (1.1.3)\n",
      "Requirement already satisfied: colorama in c:\\users\\86130\\appdata\\roaming\\python\\python39\\site-packages (from ipython>=5.3.0->pyvis) (0.4.6)\n",
      "Requirement already satisfied: MarkupSafe>=2.0 in c:\\users\\86130\\appdata\\local\\programs\\python\\python39\\lib\\site-packages (from jinja2>=2.9.6->pyvis) (2.1.3)\n",
      "Requirement already satisfied: parso<0.9.0,>=0.8.3 in c:\\users\\86130\\appdata\\roaming\\python\\python39\\site-packages (from jedi>=0.16->ipython>=5.3.0->pyvis) (0.8.3)\n",
      "Requirement already satisfied: wcwidth in c:\\users\\86130\\appdata\\roaming\\python\\python39\\site-packages (from prompt-toolkit!=3.0.37,<3.1.0,>=3.0.30->ipython>=5.3.0->pyvis) (0.2.8)\n",
      "Requirement already satisfied: executing>=1.2.0 in c:\\users\\86130\\appdata\\roaming\\python\\python39\\site-packages (from stack-data->ipython>=5.3.0->pyvis) (2.0.1)\n",
      "Requirement already satisfied: asttokens>=2.1.0 in c:\\users\\86130\\appdata\\roaming\\python\\python39\\site-packages (from stack-data->ipython>=5.3.0->pyvis) (2.4.1)\n",
      "Requirement already satisfied: pure-eval in c:\\users\\86130\\appdata\\roaming\\python\\python39\\site-packages (from stack-data->ipython>=5.3.0->pyvis) (0.2.2)\n",
      "Requirement already satisfied: six>=1.12.0 in c:\\users\\86130\\appdata\\local\\programs\\python\\python39\\lib\\site-packages (from asttokens>=2.1.0->stack-data->ipython>=5.3.0->pyvis) (1.16.0)\n",
      "Downloading pyvis-0.3.2-py3-none-any.whl (756 kB)\n",
      "   ---------------------------------------- 0.0/756.0 kB ? eta -:--:--\n",
      "   - -------------------------------------- 20.5/756.0 kB ? eta -:--:--\n",
      "   -- ------------------------------------ 51.2/756.0 kB 871.5 kB/s eta 0:00:01\n",
      "   ----- -------------------------------- 102.4/756.0 kB 980.4 kB/s eta 0:00:01\n",
      "   ---------- ----------------------------- 194.6/756.0 kB 1.3 MB/s eta 0:00:01\n",
      "   ---------------- ----------------------- 317.4/756.0 kB 1.8 MB/s eta 0:00:01\n",
      "   ---------------------------- ----------- 532.5/756.0 kB 2.4 MB/s eta 0:00:01\n",
      "   ----------------------------- ---------- 553.0/756.0 kB 2.3 MB/s eta 0:00:01\n",
      "   ---------------------------------------- 756.0/756.0 kB 2.5 MB/s eta 0:00:00\n",
      "Downloading jsonpickle-3.2.2-py3-none-any.whl (41 kB)\n",
      "   ---------------------------------------- 0.0/41.8 kB ? eta -:--:--\n",
      "   ---------------------------------------- 41.8/41.8 kB ? eta 0:00:00\n",
      "Installing collected packages: jsonpickle, pyvis\n",
      "Successfully installed jsonpickle-3.2.2 pyvis-0.3.2\n",
      "Note: you may need to restart the kernel to use updated packages.\n"
     ]
    },
    {
     "name": "stderr",
     "output_type": "stream",
     "text": [
      "\n",
      "[notice] A new release of pip is available: 24.0 -> 24.1\n",
      "[notice] To update, run: python.exe -m pip install --upgrade pip\n"
     ]
    }
   ],
   "source": [
    "pip install pyvis"
   ]
  },
  {
   "cell_type": "code",
   "execution_count": 1,
   "metadata": {},
   "outputs": [
    {
     "name": "stdout",
     "output_type": "stream",
     "text": [
      "Requirement already satisfied: jinja2 in c:\\users\\86130\\appdata\\local\\programs\\python\\python39\\lib\\site-packages (3.1.2)\n",
      "Requirement already satisfied: MarkupSafe>=2.0 in c:\\users\\86130\\appdata\\local\\programs\\python\\python39\\lib\\site-packages (from jinja2) (2.1.3)\n",
      "Note: you may need to restart the kernel to use updated packages.\n"
     ]
    },
    {
     "name": "stderr",
     "output_type": "stream",
     "text": [
      "\n",
      "[notice] A new release of pip is available: 24.0 -> 24.1\n",
      "[notice] To update, run: python.exe -m pip install --upgrade pip\n"
     ]
    }
   ],
   "source": [
    "pip install jinja2\n"
   ]
  }
 ],
 "metadata": {
  "kernelspec": {
   "display_name": "Python 3",
   "language": "python",
   "name": "python3"
  },
  "language_info": {
   "codemirror_mode": {
    "name": "ipython",
    "version": 3
   },
   "file_extension": ".py",
   "mimetype": "text/x-python",
   "name": "python",
   "nbconvert_exporter": "python",
   "pygments_lexer": "ipython3",
   "version": "3.9.13"
  }
 },
 "nbformat": 4,
 "nbformat_minor": 2
}
